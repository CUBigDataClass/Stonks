{
 "cells": [
  {
   "cell_type": "code",
   "execution_count": 68,
   "metadata": {},
   "outputs": [],
   "source": [
    "from tweepy import Stream\n",
    "import json\n",
    "from keys import *\n",
    "from companies import *\n",
    "import pandas as pd\n",
    "import time"
   ]
  },
  {
   "cell_type": "code",
   "execution_count": null,
   "metadata": {},
   "outputs": [],
   "source": []
  },
  {
   "cell_type": "code",
   "execution_count": 142,
   "metadata": {},
   "outputs": [],
   "source": [
    "class TwitterStream(Stream):\n",
    "\n",
    "    def __init__(self, key, secret, token, token_secret, responses, limit=1):\n",
    "        \"\"\"Configure the SentimentListener.\"\"\"\n",
    "        self.responses = responses\n",
    "        self.tweet_count = 0\n",
    "        self.TWEET_LIMIT = limit\n",
    "\n",
    "        super().__init__(key, secret, token, token_secret)\n",
    "\n",
    "\n",
    "    \"\"\"\n",
    "    Inherits from tweepy's Stream class. We are only modifying the few functions\n",
    "    we need to customize, namely what to do when new tweets come through.\n",
    "    \"\"\"\n",
    "\n",
    "    def get_companies(self, tweet):\n",
    "        \"\"\"\n",
    "        :param tweet: The string text of a tweet.\n",
    "        :return: A list of companies mentioned in the tweet.\n",
    "        \"\"\"\n",
    "        tweet = tweet.lower()\n",
    "        companies_mentioned = []\n",
    "        for stock in stocks:\n",
    "            if stock in tweet:\n",
    "                companies_mentioned.append(stock)\n",
    "\n",
    "        return companies_mentioned\n",
    "\n",
    "    def on_data(self, raw_data):\n",
    "        \"\"\"\n",
    "        Gets called every time a new tweet gets filtered through.\n",
    "        \"\"\"\n",
    "        self.responses = self.responses.append(self.process_data(raw_data))\n",
    "\n",
    "        self.tweet_count += 1  # track number of tweets processed\n",
    "\n",
    "        # if TWEET_LIMIT is reached, return False to terminate streaming\n",
    "        if self.tweet_count == self.TWEET_LIMIT:\n",
    "            self.disconnect()\n",
    "\n",
    "\n",
    "\n",
    "    def process_data(self, raw_data):\n",
    "        \"\"\"\n",
    "        Sends data through the Kafka log.\n",
    "        \"\"\"\n",
    "        response = json.loads(raw_data)\n",
    "        \n",
    "\n",
    "        # Get tweet text\n",
    "        if 'extended_tweet' in response:\n",
    "            tweet_text = response['extended_tweet']['full_text']\n",
    "        else:\n",
    "            tweet_text = response['text']\n",
    "        \n",
    "\n",
    "        # Associate each company mentioned with the tweet\n",
    "        companies_mentioned = self.get_companies(tweet_text)\n",
    "        for corp in companies_mentioned:\n",
    "            response['company_name'] = corp\n",
    "\n",
    "        return response\n",
    "            \n",
    "    def on_error(self, status_code):\n",
    "        \"\"\"\n",
    "        Returning false disconnects the stream.\n",
    "        \"\"\"\n",
    "        if status_code == 420:\n",
    "            return False"
   ]
  },
  {
   "cell_type": "code",
   "execution_count": 143,
   "metadata": {},
   "outputs": [],
   "source": [
    "limit = 1\n",
    "responses= []\n",
    "stream = TwitterStream(API_KEY, API_KEY_SECERT,ACCESS_TOKEN, ACCESS_TOKEN_SECRET, responses, limit)"
   ]
  },
  {
   "cell_type": "code",
   "execution_count": 144,
   "metadata": {},
   "outputs": [
    {
     "name": "stderr",
     "output_type": "stream",
     "text": [
      "Stream connection closed by Twitter\n"
     ]
    }
   ],
   "source": [
    "stream.filter(track=['Microsoft'], languages=['en'])\n"
   ]
  },
  {
   "cell_type": "code",
   "execution_count": 145,
   "metadata": {},
   "outputs": [
    {
     "name": "stdout",
     "output_type": "stream",
     "text": [
      "[{'created_at': 'Wed Mar 23 02:23:04 +0000 2022', 'id': 1506456466420801536, 'id_str': '1506456466420801536', 'text': 'RT @pnjaban: Well hush my mouth...the @nytimes writes a relatively fair piece about the DOJ spying on Project Veritas through multiple Micr…', 'source': '<a href=\"http://twitter.com/download/iphone\" rel=\"nofollow\">Twitter for iPhone</a>', 'truncated': False, 'in_reply_to_status_id': None, 'in_reply_to_status_id_str': None, 'in_reply_to_user_id': None, 'in_reply_to_user_id_str': None, 'in_reply_to_screen_name': None, 'user': {'id': 541220277, 'id_str': '541220277', 'name': 'LauraLee Waters', 'screen_name': 'LauraLeeWaters1', 'location': None, 'url': None, 'description': 'Christian (Catholic) wife and mother who loves God, USA, Family, Constitution, and Pro Israel. USA is a Constitutional Republic, not a Democracy!', 'translator_type': 'none', 'protected': False, 'verified': False, 'followers_count': 315, 'friends_count': 1011, 'listed_count': 7, 'favourites_count': 30160, 'statuses_count': 40734, 'created_at': 'Fri Mar 30 21:17:06 +0000 2012', 'utc_offset': None, 'time_zone': None, 'geo_enabled': False, 'lang': None, 'contributors_enabled': False, 'is_translator': False, 'profile_background_color': 'C0DEED', 'profile_background_image_url': 'http://abs.twimg.com/images/themes/theme1/bg.png', 'profile_background_image_url_https': 'https://abs.twimg.com/images/themes/theme1/bg.png', 'profile_background_tile': False, 'profile_link_color': '1DA1F2', 'profile_sidebar_border_color': 'C0DEED', 'profile_sidebar_fill_color': 'DDEEF6', 'profile_text_color': '333333', 'profile_use_background_image': True, 'profile_image_url': 'http://pbs.twimg.com/profile_images/3148220575/16210d93e50d51d991c78b1903cb4a2f_normal.jpeg', 'profile_image_url_https': 'https://pbs.twimg.com/profile_images/3148220575/16210d93e50d51d991c78b1903cb4a2f_normal.jpeg', 'default_profile': True, 'default_profile_image': False, 'following': None, 'follow_request_sent': None, 'notifications': None, 'withheld_in_countries': []}, 'geo': None, 'coordinates': None, 'place': None, 'contributors': None, 'retweeted_status': {'created_at': 'Wed Mar 23 01:01:46 +0000 2022', 'id': 1506436003178823681, 'id_str': '1506436003178823681', 'text': 'Well hush my mouth...the @nytimes writes a relatively fair piece about the DOJ spying on Project Veritas through mu… https://t.co/avTjrOLs6d', 'source': '<a href=\"https://mobile.twitter.com\" rel=\"nofollow\">Twitter Web App</a>', 'truncated': True, 'in_reply_to_status_id': None, 'in_reply_to_status_id_str': None, 'in_reply_to_user_id': None, 'in_reply_to_user_id_str': None, 'in_reply_to_screen_name': None, 'user': {'id': 201066140, 'id_str': '201066140', 'name': 'Harmeet K. Dhillon', 'screen_name': 'pnjaban', 'location': 'San Francisco', 'url': 'http://www.dhillonlaw.com', 'description': 'Wife. Founder @Dhillonlaw & @Liberty_Ctr; CA NCW @GOP; @TheRepLawyer Chair. Support my civil rights work  @ http://Libertycenter.org/donate/', 'translator_type': 'none', 'protected': False, 'verified': True, 'followers_count': 318192, 'friends_count': 3139, 'listed_count': 1037, 'favourites_count': 301222, 'statuses_count': 84608, 'created_at': 'Mon Oct 11 00:29:19 +0000 2010', 'utc_offset': None, 'time_zone': None, 'geo_enabled': False, 'lang': None, 'contributors_enabled': False, 'is_translator': False, 'profile_background_color': '000000', 'profile_background_image_url': 'http://abs.twimg.com/images/themes/theme1/bg.png', 'profile_background_image_url_https': 'https://abs.twimg.com/images/themes/theme1/bg.png', 'profile_background_tile': False, 'profile_link_color': '1B95E0', 'profile_sidebar_border_color': '000000', 'profile_sidebar_fill_color': '000000', 'profile_text_color': '000000', 'profile_use_background_image': False, 'profile_image_url': 'http://pbs.twimg.com/profile_images/1297514736708452354/zKkpeJkh_normal.jpg', 'profile_image_url_https': 'https://pbs.twimg.com/profile_images/1297514736708452354/zKkpeJkh_normal.jpg', 'profile_banner_url': 'https://pbs.twimg.com/profile_banners/201066140/1414349080', 'default_profile': False, 'default_profile_image': False, 'following': None, 'follow_request_sent': None, 'notifications': None, 'withheld_in_countries': []}, 'geo': None, 'coordinates': None, 'place': None, 'contributors': None, 'is_quote_status': False, 'extended_tweet': {'full_text': 'Well hush my mouth...the @nytimes writes a relatively fair piece about the DOJ spying on Project Veritas through multiple Microsoft subpoenas and gag orders. All journalists should be concerned! Project Veritas Says Justice Dept. Secretly Seized Its Emails https://t.co/ylLKwGIlrX', 'display_text_range': [0, 280], 'entities': {'hashtags': [], 'urls': [{'url': 'https://t.co/ylLKwGIlrX', 'expanded_url': 'https://www.nytimes.com/2022/03/22/us/politics/project-veritas-emails.html?smid=tw-share', 'display_url': 'nytimes.com/2022/03/22/us/…', 'indices': [257, 280]}], 'user_mentions': [{'screen_name': 'nytimes', 'name': 'The New York Times', 'id': 807095, 'id_str': '807095', 'indices': [25, 33]}], 'symbols': []}}, 'quote_count': 4, 'reply_count': 23, 'retweet_count': 164, 'favorite_count': 369, 'entities': {'hashtags': [], 'urls': [{'url': 'https://t.co/avTjrOLs6d', 'expanded_url': 'https://twitter.com/i/web/status/1506436003178823681', 'display_url': 'twitter.com/i/web/status/1…', 'indices': [117, 140]}], 'user_mentions': [{'screen_name': 'nytimes', 'name': 'The New York Times', 'id': 807095, 'id_str': '807095', 'indices': [25, 33]}], 'symbols': []}, 'favorited': False, 'retweeted': False, 'possibly_sensitive': False, 'filter_level': 'low', 'lang': 'en'}, 'is_quote_status': False, 'quote_count': 0, 'reply_count': 0, 'retweet_count': 0, 'favorite_count': 0, 'entities': {'hashtags': [], 'urls': [], 'user_mentions': [{'screen_name': 'pnjaban', 'name': 'Harmeet K. Dhillon', 'id': 201066140, 'id_str': '201066140', 'indices': [3, 11]}, {'screen_name': 'nytimes', 'name': 'The New York Times', 'id': 807095, 'id_str': '807095', 'indices': [38, 46]}], 'symbols': []}, 'favorited': False, 'retweeted': False, 'filter_level': 'low', 'lang': 'en', 'timestamp_ms': '1648002184859'}]\n"
     ]
    }
   ],
   "source": [
    "print(responses)"
   ]
  },
  {
   "cell_type": "code",
   "execution_count": null,
   "metadata": {},
   "outputs": [],
   "source": []
  }
 ],
 "metadata": {
  "interpreter": {
   "hash": "baea33747483ac6d468c05e53a29458c83a61eb606512fd6bf10801b9826510f"
  },
  "kernelspec": {
   "display_name": "Python 3.9.7 ('base')",
   "language": "python",
   "name": "python3"
  },
  "language_info": {
   "codemirror_mode": {
    "name": "ipython",
    "version": 3
   },
   "file_extension": ".py",
   "mimetype": "text/x-python",
   "name": "python",
   "nbconvert_exporter": "python",
   "pygments_lexer": "ipython3",
   "version": "3.9.7"
  },
  "orig_nbformat": 4
 },
 "nbformat": 4,
 "nbformat_minor": 2
}
